{
 "cells": [
  {
   "cell_type": "code",
   "execution_count": 1,
   "id": "05e150f7",
   "metadata": {},
   "outputs": [
    {
     "name": "stdout",
     "output_type": "stream",
     "text": [
      "K = 0.10, V = 165118036.5761\n",
      "K = 0.31, V = 165118035.8473\n",
      "K = 0.52, V = 165118038.4687\n",
      "K = 0.73, V = 165118038.6947\n",
      "K = 0.94, V = 165118039.4064\n",
      "K = 1.16, V = 165118039.8049\n",
      "K = 1.37, V = 165118040.4316\n",
      "K = 1.58, V = 165118041.1402\n",
      "K = 1.79, V = 165118041.7818\n",
      "K = 2.00, V = 165117700.5137\n"
     ]
    }
   ],
   "source": [
    "import numpy as np\n",
    "from scipy.optimize import minimize\n",
    "from scipy.interpolate import interp1d\n",
    "\n",
    "# Initialize parameters\n",
    "A_bar = 1.0      # Fixed productivity level\n",
    "theta = 0.5      # Elasticity of output with respect to capital\n",
    "p = 1.0          # Price of capital goods\n",
    "gamma = 0.1      # Adjustment cost parameter\n",
    "beta = 0.95      # Discount factor\n",
    "\n",
    "# Profit function Π(K)\n",
    "def profit_function(K):\n",
    "    return np.exp(A_bar) * (K ** theta)\n",
    "\n",
    "# Cost function C(I, K)\n",
    "def cost_function(I):\n",
    "    return (gamma / 2) * (I ** 2)\n",
    "\n",
    "# Right-hand side of the Bellman equation\n",
    "def bellman_rhs(K, I, V_next):\n",
    "    return profit_function(K) - p * I - cost_function(I) + beta * V_next\n",
    "\n",
    "# Bellman equation with interpolation for V_func\n",
    "def bellman_equation(K, V_func):\n",
    "    # Interpolation function for V_func\n",
    "    K_grid = np.array(list(V_func.keys()))\n",
    "    V_values = np.array(list(V_func.values()))\n",
    "    V_interp = interp1d(K_grid, V_values, fill_value=\"extrapolate\")\n",
    "\n",
    "    # Define objective function\n",
    "    def objective(I):\n",
    "        K_next = K + I\n",
    "        V_next = V_interp(K_next)  # Interpolated value\n",
    "        return -bellman_rhs(K, I, V_next)  # Maximization as minimization\n",
    "\n",
    "    # Solve for optimal investment I_t\n",
    "    result = minimize(objective, x0=0.1, bounds=[(0, None)])\n",
    "    if result.success:\n",
    "        I_opt = result.x[0]\n",
    "    else:\n",
    "        I_opt = 0\n",
    "\n",
    "    K_next = K + I_opt\n",
    "    V_next = V_interp(K_next)\n",
    "    V = bellman_rhs(K, I_opt, V_next)\n",
    "    return V\n",
    "\n",
    "# Initialize value function as a dictionary\n",
    "value_function = {K: profit_function(K) / (1 - beta) for K in np.linspace(0.1, 2, 10)}\n",
    "\n",
    "# Iterative computation of the value function\n",
    "for iteration in range(100):\n",
    "    new_value_function = {}\n",
    "\n",
    "    # Update value function for each capital level in the grid\n",
    "    for K in np.linspace(0.1, 2, 10):\n",
    "        new_value_function[K] = bellman_equation(K, value_function)\n",
    "    \n",
    "    # Check for convergence\n",
    "    if all(abs(new_value_function[K] - value_function[K]) < 1e-4 for K in new_value_function):\n",
    "        print(f\"Converged after {iteration + 1} iterations\")\n",
    "        break\n",
    "    \n",
    "    # Update value function\n",
    "    value_function = new_value_function\n",
    "\n",
    "# Display final value function\n",
    "for K, V in value_function.items():\n",
    "    print(f\"K = {K:.2f}, V = {V:.4f}\")\n"
   ]
  },
  {
   "cell_type": "code",
   "execution_count": null,
   "id": "cac1642a",
   "metadata": {},
   "outputs": [],
   "source": []
  }
 ],
 "metadata": {
  "kernelspec": {
   "display_name": "Python 3 (ipykernel)",
   "language": "python",
   "name": "python3"
  },
  "language_info": {
   "codemirror_mode": {
    "name": "ipython",
    "version": 3
   },
   "file_extension": ".py",
   "mimetype": "text/x-python",
   "name": "python",
   "nbconvert_exporter": "python",
   "pygments_lexer": "ipython3",
   "version": "3.10.4"
  }
 },
 "nbformat": 4,
 "nbformat_minor": 5
}
