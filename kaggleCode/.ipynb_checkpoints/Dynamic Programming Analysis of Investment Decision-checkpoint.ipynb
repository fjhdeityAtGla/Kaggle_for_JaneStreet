{
 "cells": [
  {
   "cell_type": "code",
   "execution_count": 16,
   "id": "7fd8e2d7",
   "metadata": {},
   "outputs": [],
   "source": [
    "import numpy as np\n",
    "import matplotlib.pyplot as plt\n",
    "from scipy.optimize import minimize\n",
    "from scipy.interpolate import interp1d"
   ]
  },
  {
   "cell_type": "markdown",
   "id": "8127243d",
   "metadata": {},
   "source": [
    "For simplify model and make it easier to calculate. We use these parameters."
   ]
  },
  {
   "cell_type": "code",
   "execution_count": 17,
   "id": "7ab2a545",
   "metadata": {},
   "outputs": [],
   "source": [
    "# 设置参数\n",
    "A_bar = 1.0      # 固定的生产力水平\n",
    "theta = 0.5      # 资本的弹性\n",
    "p = 1.0          # 资本商品的价格\n",
    "gamma = 0.1      # 调整成本参数\n",
    "beta = 0.95      # 折现因子\n",
    "\n"
   ]
  },
  {
   "cell_type": "code",
   "execution_count": 18,
   "id": "54eec75a",
   "metadata": {},
   "outputs": [],
   "source": [
    "# 利润函数 Π(K)\n",
    "def profit_function(K):\n",
    "    return np.exp(A_bar) * (K ** theta)\n",
    "\n",
    "# 成本函数 C(I, K)\n",
    "def cost_function(I):\n",
    "    return (gamma / 2) * (I ** 2)\n",
    "\n",
    "\n"
   ]
  },
  {
   "cell_type": "markdown",
   "id": "4d6d37ae",
   "metadata": {},
   "source": [
    "The right-hand side expression of the Bellman equation represents the immediate payoff (or immediate return) from the current decision, plus the discounted value of future decisions. Mathematically, the Bellman equation can be written as:\n",
    "\n",
    "$$\n",
    "V(K_t) = \\max_{I_t} \\left[ \\Pi(K_t) - p I_t - C(I_t, K_t) + \\beta V(K_{t+1}) \\right]\n",
    "$$\n",
    "\n",
    "Where:\n",
    "\n",
    "- $\\ V(K_t) $ is the value function given the capital level $\\ K_t $, representing the maximum return starting from the current time \\( t \\) onward.\n",
    "- $\\ \\Pi(K_t) $ is the profit of the firm given the capital $\\ K_t $.\n",
    "- $\\ p I_t $ is the cost needed to purchase the investment $\\ I_t $.\n",
    "- $\\ C(I_t, K_t) = \\frac{\\gamma}{2} I_t^2 $ is the adjustment cost of investment, which increases as investment increases.\n",
    "- $ \\beta $ is the discount factor, used to discount future returns to the present.\n",
    "- $\\ V(K_{t+1}) $ is the value function at the next period capital level $ K_{t+1} = K_t + I_t $.\n",
    "\n",
    "The **right-hand side expression of the Bellman equation** is:\n",
    "\n",
    "$$\n",
    "\\Pi(K_t) - p I_t - C(I_t, K_t) + \\beta V(K_{t+1})\n",
    "$$\n",
    "\n",
    "This expression consists of two parts:\n",
    "\n",
    "1. **Immediate Return**: The profit $ \\Pi(K_t) $ at the current time $ t $, minus the investment cost $ p I_t $ and adjustment cost $ C(I_t, K_t) $.\n",
    "2. **Discounted Future Value**: $ \\beta V(K_{t+1}) $, which represents the future value at the next period capital $ K_{t+1} $, discounted by $ \\beta $.\n",
    "\n",
    "The core idea of the Bellman equation is **recursive optimality**, which means that the optimal decision at the current time should consider not only the current payoff but also the discounted value of future payoffs. Therefore, we need to find the value of $\\ I_t $ that maximizes this expression.\n"
   ]
  },
  {
   "cell_type": "code",
   "execution_count": 19,
   "id": "742db031",
   "metadata": {},
   "outputs": [],
   "source": [
    "# 贝尔曼方程的右侧表达式\n",
    "# right-hand side expression of the Bellman equation\n",
    "def bellman_rhs(K, I, V_next):\n",
    "    return profit_function(K) - p * I - cost_function(I) + beta * V_next"
   ]
  },
  {
   "cell_type": "markdown",
   "id": "ca1d0e63",
   "metadata": {},
   "source": [
    "编写贝尔曼方程的递归计算函数，该函数用来优化每一步的投资 $I t$，使价值函数最大化。"
   ]
  },
  {
   "cell_type": "code",
   "execution_count": 20,
   "id": "9fa602d7",
   "metadata": {},
   "outputs": [],
   "source": [
    "# Bellman equation with interpolation for V_func\n",
    "def bellman_equation(K, V_func):\n",
    "    # Interpolation function for V_func\n",
    "    K_grid = np.array(list(V_func.keys()))\n",
    "    V_values = np.array(list(V_func.values()))\n",
    "    V_interp = interp1d(K_grid, V_values, fill_value=\"extrapolate\")\n",
    "\n",
    "    # Define objective function\n",
    "    def objective(I):\n",
    "        K_next = K + I\n",
    "        V_next = V_interp(K_next)  # Interpolated value\n",
    "        return -bellman_rhs(K, I, V_next)  # Maximization as minimization\n",
    "\n",
    "    # Solve for optimal investment I_t\n",
    "    result = minimize(objective, x0=0.1, bounds=[(0, None)])\n",
    "    if result.success:\n",
    "        I_opt = result.x[0]\n",
    "    else:\n",
    "        I_opt = 0\n",
    "\n",
    "    K_next = K + I_opt\n",
    "    V_next = V_interp(K_next)\n",
    "    V = bellman_rhs(K, I_opt, V_next)\n",
    "    return V\n"
   ]
  },
  {
   "cell_type": "markdown",
   "id": "f1ee1cdf",
   "metadata": {},
   "source": [
    "边际 Q 是价值函数对资本的偏导数。我们将使用有限差分方法来数值计算边际 Q。"
   ]
  },
  {
   "cell_type": "code",
   "execution_count": 21,
   "id": "e36b9a3e",
   "metadata": {},
   "outputs": [],
   "source": [
    "# 数值计算边际 Q\n",
    "def marginal_q(K, V_func, delta=1e-5):\n",
    "    # 使用有限差分方法计算边际 Q\n",
    "    return (V_func(K + delta) - V_func(K)) / delta\n"
   ]
  },
  {
   "cell_type": "markdown",
   "id": "02404f2c",
   "metadata": {},
   "source": [
    "通过迭代的方法逐步求解价值函数，直到收敛。这里我们采用一个近似的线性插值方法来更新价值函数。"
   ]
  },
  {
   "cell_type": "code",
   "execution_count": 22,
   "id": "3cb15ed9",
   "metadata": {},
   "outputs": [
    {
     "name": "stdout",
     "output_type": "stream",
     "text": [
      "K = 0.10, V = 165118036.5761\n",
      "K = 0.31, V = 165118035.8473\n",
      "K = 0.52, V = 165118038.4687\n",
      "K = 0.73, V = 165118038.6947\n",
      "K = 0.94, V = 165118039.4064\n",
      "K = 1.16, V = 165118039.8049\n",
      "K = 1.37, V = 165118040.4316\n",
      "K = 1.58, V = 165118041.1402\n",
      "K = 1.79, V = 165118041.7818\n",
      "K = 2.00, V = 165117700.5137\n"
     ]
    }
   ],
   "source": [
    "# Initialize value function as a dictionary\n",
    "value_function = {K: profit_function(K) / (1 - beta) for K in np.linspace(0.1, 2, 10)}\n",
    "\n",
    "# Iterative computation of the value function\n",
    "for iteration in range(100):\n",
    "    new_value_function = {}\n",
    "\n",
    "    # Update value function for each capital level in the grid\n",
    "    for K in np.linspace(0.1, 2, 10):\n",
    "        new_value_function[K] = bellman_equation(K, value_function)\n",
    "    \n",
    "    # Check for convergence\n",
    "    if all(abs(new_value_function[K] - value_function[K]) < 1e-4 for K in new_value_function):\n",
    "        print(f\"Converged after {iteration + 1} iterations\")\n",
    "        break\n",
    "    \n",
    "    # Update value function\n",
    "    value_function = new_value_function\n",
    "\n",
    "# Display final value function\n",
    "for K, V in value_function.items():\n",
    "    print(f\"K = {K:.2f}, V = {V:.4f}\")\n"
   ]
  },
  {
   "cell_type": "markdown",
   "id": "d30588e1",
   "metadata": {},
   "source": [
    "Finally, we calculate the marginal Q at different capital levels and output the results."
   ]
  },
  {
   "cell_type": "code",
   "execution_count": 25,
   "id": "d37266cd",
   "metadata": {},
   "outputs": [
    {
     "name": "stdout",
     "output_type": "stream",
     "text": [
      "The marginal Q at capital level K=0.10 is  Q=165118036.5761\n",
      "The marginal Q at capital level K=0.31 is  Q=165118035.8473\n",
      "The marginal Q at capital level K=0.52 is  Q=165118038.4687\n",
      "The marginal Q at capital level K=0.73 is  Q=165118038.6947\n",
      "The marginal Q at capital level K=0.94 is  Q=165118039.4064\n",
      "The marginal Q at capital level K=1.16 is  Q=165118039.8049\n",
      "The marginal Q at capital level K=1.37 is  Q=165118040.4316\n",
      "The marginal Q at capital level K=1.58 is  Q=165118041.1402\n",
      "The marginal Q at capital level K=1.79 is  Q=165118041.7818\n",
      "The marginal Q at capital level K=2.00 is  Q=165117700.5137\n"
     ]
    }
   ],
   "source": [
    "# 计算不同资本水平下的边际 Q\n",
    "# K_values = np.linspace(0.1, 2, 10)\n",
    "# marginal_q_values = [marginal_q(K, value_function) for K in K_values]\n",
    "\n",
    "# 打印边际 Q\n",
    "for K, Q in value_function.items():\n",
    "    print(f\"The marginal Q at capital level K={K:.2f} is  Q={Q:.4f}\")\n"
   ]
  },
  {
   "cell_type": "markdown",
   "id": "246ff9d6",
   "metadata": {},
   "source": [
    "如题，我们知道参数如下："
   ]
  },
  {
   "cell_type": "code",
   "execution_count": 10,
   "id": "f663aad5",
   "metadata": {},
   "outputs": [],
   "source": [
    "# parameters\n",
    "beta = 0.95        # discount factor\n",
    "theta = 0.7        # elasticity with respect to capital\n",
    "gamma = 0.2        # adjustment cost parameter\n",
    "p = 1.2            # price of capital goods\n",
    "A_bar = 1.5        # fixed productivity level"
   ]
  },
  {
   "cell_type": "code",
   "execution_count": null,
   "id": "7e6a32e9",
   "metadata": {},
   "outputs": [],
   "source": []
  }
 ],
 "metadata": {
  "kernelspec": {
   "display_name": "Python 3 (ipykernel)",
   "language": "python",
   "name": "python3"
  },
  "language_info": {
   "codemirror_mode": {
    "name": "ipython",
    "version": 3
   },
   "file_extension": ".py",
   "mimetype": "text/x-python",
   "name": "python",
   "nbconvert_exporter": "python",
   "pygments_lexer": "ipython3",
   "version": "3.10.4"
  }
 },
 "nbformat": 4,
 "nbformat_minor": 5
}
